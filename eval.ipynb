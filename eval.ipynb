{
 "cells": [
  {
   "cell_type": "code",
   "execution_count": 4,
   "id": "c587f8df",
   "metadata": {},
   "outputs": [],
   "source": [
    "import os\n",
    "import torch\n",
    "import pickle as pkl\n",
    "\n",
    "from utils import *"
   ]
  },
  {
   "cell_type": "code",
   "execution_count": 13,
   "id": "2cc3d38f",
   "metadata": {},
   "outputs": [],
   "source": [
    "AVERAGE = 'macro'\n",
    "def print_split_results(split):\n",
    "    for models_type in ['models']:\n",
    "        save_to = os.path.join(f'results', split, AVERAGE, f'final_{models_type}_results.pkl')\n",
    "        if os.path.exists(save_to):\n",
    "            print(f'RESULTS FOR ALL {models_type.upper()}')\n",
    "            with open(save_to, 'rb') as f:\n",
    "                results = pkl.load(f)\n",
    "\n",
    "            for model, result in results.items():\n",
    "                print(f'\\nmodel: {model}')\n",
    "                for metric, value in result.items():\n",
    "                    print(f'{metric}: {round(value, 10)}')\n",
    "            print('\\n')"
   ]
  },
  {
   "cell_type": "code",
   "execution_count": 14,
   "id": "edb724fd",
   "metadata": {},
   "outputs": [
    {
     "name": "stdout",
     "output_type": "stream",
     "text": [
      "RESULTS FOR ALL MODELS\n",
      "\n",
      "model: final_minihat\n",
      "eval_loss: 0.0596669652\n",
      "eval_accuracy: 0.9813416667\n",
      "eval_precision: 0.9757152349\n",
      "eval_recall: 0.9757900488\n",
      "eval_f1: 0.9757422353\n",
      "eval_runtime: 711.5852\n",
      "eval_samples_per_second: 1180.463\n",
      "eval_steps_per_second: 4.612\n",
      "\n",
      "\n"
     ]
    }
   ],
   "source": [
    "print_split_results('train')"
   ]
  },
  {
   "cell_type": "code",
   "execution_count": 15,
   "id": "3817fa45",
   "metadata": {},
   "outputs": [
    {
     "name": "stdout",
     "output_type": "stream",
     "text": [
      "RESULTS FOR ALL MODELS\n",
      "\n",
      "model: final_minihat\n",
      "eval_loss: 0.1080392152\n",
      "eval_accuracy: 0.9663611111\n",
      "eval_precision: 0.9565430113\n",
      "eval_recall: 0.9576492546\n",
      "eval_f1: 0.9570666011\n",
      "eval_runtime: 154.6471\n",
      "eval_samples_per_second: 1163.94\n",
      "eval_steps_per_second: 4.552\n",
      "\n",
      "model: final_hat\n",
      "eval_loss: 0.1473250836\n",
      "eval_accuracy: 0.9519333333\n",
      "eval_precision: 0.9405001779\n",
      "eval_recall: 0.9372385021\n",
      "eval_f1: 0.9388432375\n",
      "eval_runtime: 1177.6695\n",
      "eval_samples_per_second: 152.844\n",
      "eval_steps_per_second: 0.598\n",
      "\n",
      "model: final_bert\n",
      "eval_loss: 0.1146258563\n",
      "eval_accuracy: 0.9723555556\n",
      "eval_precision: 0.9645172092\n",
      "eval_recall: 0.9648917744\n",
      "eval_f1: 0.9646908801\n",
      "eval_runtime: 1529.6715\n",
      "eval_samples_per_second: 117.672\n",
      "eval_steps_per_second: 0.46\n",
      "\n",
      "\n",
      "RESULTS FOR ALL PIPELINES\n",
      "\n",
      "model: final_final_mini_pipeline\n",
      "eval_loss: 0.2107099146\n",
      "eval_accuracy: 0.9276111111\n",
      "eval_precision: 0.9166913052\n",
      "eval_recall: 0.9061219907\n",
      "eval_f1: 0.9109474922\n",
      "eval_runtime: 163.0725\n",
      "eval_samples_per_second: 1103.803\n",
      "eval_steps_per_second: 4.317\n",
      "\n",
      "model: final_mini_pipeline\n",
      "eval_loss: 0.1613822877\n",
      "eval_accuracy: 0.9462722222\n",
      "eval_precision: 0.934105812\n",
      "eval_recall: 0.9319161669\n",
      "eval_f1: 0.9329981955\n",
      "eval_runtime: 159.0179\n",
      "eval_samples_per_second: 1131.948\n",
      "eval_steps_per_second: 4.427\n",
      "\n",
      "model: final_full_pipeline\n",
      "eval_loss: 0.1926377416\n",
      "eval_accuracy: 0.9360055556\n",
      "eval_precision: 0.9199227812\n",
      "eval_recall: 0.9203474305\n",
      "eval_f1: 0.9200713714\n",
      "eval_runtime: 1177.5507\n",
      "eval_samples_per_second: 152.86\n",
      "eval_steps_per_second: 0.598\n",
      "\n",
      "\n"
     ]
    }
   ],
   "source": [
    "print_split_results('val')"
   ]
  },
  {
   "cell_type": "code",
   "execution_count": 16,
   "id": "dbf44984",
   "metadata": {},
   "outputs": [
    {
     "name": "stdout",
     "output_type": "stream",
     "text": [
      "RESULTS FOR ALL MODELS\n",
      "\n",
      "model: final_minihat\n",
      "eval_loss: 0.1070663556\n",
      "eval_accuracy: 0.9667111111\n",
      "eval_precision: 0.9565534656\n",
      "eval_recall: 0.9580344522\n",
      "eval_f1: 0.9572616765\n",
      "eval_runtime: 154.5995\n",
      "eval_samples_per_second: 1164.298\n",
      "eval_steps_per_second: 4.554\n",
      "\n",
      "model: final_hat\n",
      "eval_loss: 0.1469485313\n",
      "eval_accuracy: 0.9525555556\n",
      "eval_precision: 0.941936367\n",
      "eval_recall: 0.9384147043\n",
      "eval_f1: 0.9401394592\n",
      "eval_runtime: 1178.7742\n",
      "eval_samples_per_second: 152.701\n",
      "eval_steps_per_second: 0.597\n",
      "\n",
      "model: final_bert\n",
      "eval_loss: 0.1146178395\n",
      "eval_accuracy: 0.9723888889\n",
      "eval_precision: 0.9643313071\n",
      "eval_recall: 0.9650472622\n",
      "eval_f1: 0.964662576\n",
      "eval_runtime: 1527.0375\n",
      "eval_samples_per_second: 117.875\n",
      "eval_steps_per_second: 0.461\n",
      "\n",
      "\n",
      "RESULTS FOR ALL PIPELINES\n",
      "\n",
      "model: final_final_mini_pipeline\n",
      "eval_loss: 0.2108162791\n",
      "eval_accuracy: 0.9270333333\n",
      "eval_precision: 0.9164159473\n",
      "eval_recall: 0.9063950255\n",
      "eval_f1: 0.9109096966\n",
      "eval_runtime: 162.9115\n",
      "eval_samples_per_second: 1104.894\n",
      "eval_steps_per_second: 4.321\n",
      "\n",
      "model: final_mini_pipeline\n",
      "eval_loss: 0.1601154059\n",
      "eval_accuracy: 0.9469666667\n",
      "eval_precision: 0.9346618831\n",
      "eval_recall: 0.9329953429\n",
      "eval_f1: 0.933820226\n",
      "eval_runtime: 158.9042\n",
      "eval_samples_per_second: 1132.758\n",
      "eval_steps_per_second: 4.43\n",
      "\n",
      "model: final_full_pipeline\n",
      "eval_loss: 0.1889486611\n",
      "eval_accuracy: 0.9368611111\n",
      "eval_precision: 0.9214184412\n",
      "eval_recall: 0.9213585643\n",
      "eval_f1: 0.9212807676\n",
      "eval_runtime: 1178.1406\n",
      "eval_samples_per_second: 152.783\n",
      "eval_steps_per_second: 0.598\n",
      "\n",
      "\n"
     ]
    }
   ],
   "source": [
    "print_split_results('test')"
   ]
  }
 ],
 "metadata": {
  "kernelspec": {
   "display_name": "Python 3 (ipykernel)",
   "language": "python",
   "name": "python3"
  },
  "language_info": {
   "codemirror_mode": {
    "name": "ipython",
    "version": 3
   },
   "file_extension": ".py",
   "mimetype": "text/x-python",
   "name": "python",
   "nbconvert_exporter": "python",
   "pygments_lexer": "ipython3",
   "version": "3.8.10"
  }
 },
 "nbformat": 4,
 "nbformat_minor": 5
}
