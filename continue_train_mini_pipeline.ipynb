{
 "cells": [
  {
   "cell_type": "code",
   "execution_count": 1,
   "metadata": {
    "id": "63fwViOZAwJA"
   },
   "outputs": [],
   "source": [
    "import os\n",
    "import numpy as np\n",
    "\n",
    "import torch\n",
    "from torch import nn\n",
    "import wandb\n",
    "\n",
    "from datasets import load_from_disk\n",
    "from transformers import BertModel, AutoModelForSequenceClassification\n",
    "from transformers import Trainer, EvalPrediction, TrainingArguments, EarlyStoppingCallback\n",
    "\n",
    "from transformers.integrations import WandbCallback\n",
    "from utils import *"
   ]
  },
  {
   "cell_type": "code",
   "execution_count": 2,
   "metadata": {},
   "outputs": [],
   "source": [
    "path_to_pipeline = '/home/ubuntu/partisan_bias_detection/best_models/final_pipelines/final_mini_pipeline'"
   ]
  },
  {
   "cell_type": "code",
   "execution_count": 3,
   "metadata": {},
   "outputs": [],
   "source": [
    "WANDB_NAME = 'continue_final_mini_pipeline_2' \n",
    "WANDB_PROJECT = 'continue_train_mini_pipeline' \n",
    "WANDB_NOTEBOOK_NAME = 'continue_train_mini_pipeline' "
   ]
  },
  {
   "cell_type": "code",
   "execution_count": 15,
   "metadata": {},
   "outputs": [
    {
     "name": "stdout",
     "output_type": "stream",
     "text": [
      "total_steps: 52500\n",
      "logging_steps: 525\n",
      "eval_steps: 1050\n"
     ]
    }
   ],
   "source": [
    "train_size = 840000 \n",
    "val_size = 120000\n",
    "batch_size = 16\n",
    "num_steps_per_epoch = int(train_size / batch_size)\n",
    "num_epochs = 1\n",
    "\n",
    "total_steps = num_steps_per_epoch * num_epochs\n",
    "\n",
    "logging_steps = round(total_steps / 100)\n",
    "eval_steps = logging_steps * 2 \n",
    "\n",
    "print(f'total_steps: {total_steps}')\n",
    "print(f'logging_steps: {logging_steps}')\n",
    "print(f'eval_steps: {eval_steps}')"
   ]
  },
  {
   "cell_type": "code",
   "execution_count": 16,
   "metadata": {
    "colab": {
     "base_uri": "https://localhost:8080/"
    },
    "id": "_7_qJj63A5bg",
    "outputId": "d667b655-64c6-48b8-cabf-804e36d16ac3"
   },
   "outputs": [
    {
     "name": "stderr",
     "output_type": "stream",
     "text": [
      "/home/ubuntu/.local/lib/python3.8/site-packages/datasets/dataset_dict.py:1241: FutureWarning: 'fs' was is deprecated in favor of 'storage_options' in version 2.8.0 and will be removed in 3.0.0.\n",
      "You can remove this warning by passing 'storage_options=fs.storage_options' instead.\n",
      "  warnings.warn(\n"
     ]
    }
   ],
   "source": [
    "CWD = os.getcwd()\n",
    "DATASET_DIR = os.path.join(CWD, 'data')\n",
    "dataset = load_data_from_dir(DATASET_DIR)"
   ]
  },
  {
   "cell_type": "code",
   "execution_count": 17,
   "metadata": {},
   "outputs": [],
   "source": [
    "torch.cuda.empty_cache()"
   ]
  },
  {
   "cell_type": "code",
   "execution_count": 18,
   "metadata": {
    "id": "Iz17A8B1XQpF"
   },
   "outputs": [],
   "source": [
    "# wandb logging\n",
    "os.environ['WANDB_API_KEY'] = '409d576b1e20724351b01a9d45b006f36972d20f' \n",
    "os.environ['WANDB_PROJECT'] = WANDB_PROJECT\n",
    "os.environ['WANDB_LOG_MODEL'] = 'end'\n",
    "os.environ['WANDB_WATCH'] = 'false'\n",
    "os.environ['WANDB_NOTEBOOK_NAME'] = WANDB_NOTEBOOK_NAME"
   ]
  },
  {
   "cell_type": "code",
   "execution_count": 21,
   "metadata": {},
   "outputs": [
    {
     "data": {
      "text/html": [
       "Tracking run with wandb version 0.14.0"
      ],
      "text/plain": [
       "<IPython.core.display.HTML object>"
      ]
     },
     "metadata": {},
     "output_type": "display_data"
    },
    {
     "data": {
      "text/html": [
       "Run data is saved locally in <code>/home/ubuntu/partisan_bias_detection/wandb/run-20230317_172913-3vwbk8mj</code>"
      ],
      "text/plain": [
       "<IPython.core.display.HTML object>"
      ]
     },
     "metadata": {},
     "output_type": "display_data"
    },
    {
     "data": {
      "text/html": [
       "Syncing run <strong><a href='https://wandb.ai/partisan-bias-classification/continue_train_mini_pipeline/runs/3vwbk8mj' target=\"_blank\">revived-eon-4</a></strong> to <a href='https://wandb.ai/partisan-bias-classification/continue_train_mini_pipeline' target=\"_blank\">Weights & Biases</a> (<a href='https://wandb.me/run' target=\"_blank\">docs</a>)<br/>"
      ],
      "text/plain": [
       "<IPython.core.display.HTML object>"
      ]
     },
     "metadata": {},
     "output_type": "display_data"
    },
    {
     "data": {
      "text/html": [
       " View project at <a href='https://wandb.ai/partisan-bias-classification/continue_train_mini_pipeline' target=\"_blank\">https://wandb.ai/partisan-bias-classification/continue_train_mini_pipeline</a>"
      ],
      "text/plain": [
       "<IPython.core.display.HTML object>"
      ]
     },
     "metadata": {},
     "output_type": "display_data"
    },
    {
     "data": {
      "text/html": [
       " View run at <a href='https://wandb.ai/partisan-bias-classification/continue_train_mini_pipeline/runs/3vwbk8mj' target=\"_blank\">https://wandb.ai/partisan-bias-classification/continue_train_mini_pipeline/runs/3vwbk8mj</a>"
      ],
      "text/plain": [
       "<IPython.core.display.HTML object>"
      ]
     },
     "metadata": {},
     "output_type": "display_data"
    },
    {
     "name": "stderr",
     "output_type": "stream",
     "text": [
      "loading configuration file /home/ubuntu/partisan_bias_detection/best_models/final_pipelines/final_mini_pipeline/config.json\n",
      "Explicitly passing a `revision` is encouraged when loading a configuration with custom code to ensure no malicious code has been contributed in a newer revision.\n",
      "loading configuration file /home/ubuntu/partisan_bias_detection/best_models/final_pipelines/final_mini_pipeline/config.json\n",
      "Model config HATConfig {\n",
      "  \"_name_or_path\": \"/home/ubuntu/partisan_bias_detection/best_models/final_pipelines/final_mini_pipeline\",\n",
      "  \"architectures\": [\n",
      "    \"HATForSequenceClassification\"\n",
      "  ],\n",
      "  \"attention_probs_dropout_prob\": 0.1,\n",
      "  \"auto_map\": {\n",
      "    \"AutoConfig\": \"configuration_hat.HATConfig\",\n",
      "    \"AutoModel\": \"modelling_hat.HATModel\",\n",
      "    \"AutoModelForMaskedLM\": \"modelling_hat.HATForMaskedLM\",\n",
      "    \"AutoModelForMultipleChoice\": \"modelling_hat.HATForMultipleChoice\",\n",
      "    \"AutoModelForQuestionAnswering\": \"modelling_hat.HATForQuestionAnswering\",\n",
      "    \"AutoModelForSequenceClassification\": \"modelling_hat.HATForSequenceClassification\",\n",
      "    \"AutoModelForTokenClassification\": \"modelling_hat.HATForTokenClassification\",\n",
      "    \"AutoTokenizer\": \"tokenization_hat.HATTokenizer\"\n",
      "  },\n",
      "  \"classifier_dropout\": null,\n",
      "  \"encoder_layout\": {\n",
      "    \"0\": {\n",
      "      \"document_encoder\": false,\n",
      "      \"sentence_encoder\": true\n",
      "    },\n",
      "    \"1\": {\n",
      "      \"document_encoder\": true,\n",
      "      \"sentence_encoder\": true\n",
      "    },\n",
      "    \"2\": {\n",
      "      \"document_encoder\": true,\n",
      "      \"sentence_encoder\": false\n",
      "    },\n",
      "    \"3\": {\n",
      "      \"document_encoder\": false,\n",
      "      \"sentence_encoder\": true\n",
      "    },\n",
      "    \"4\": {\n",
      "      \"document_encoder\": true,\n",
      "      \"sentence_encoder\": true\n",
      "    },\n",
      "    \"5\": {\n",
      "      \"document_encoder\": true,\n",
      "      \"sentence_encoder\": false\n",
      "    },\n",
      "    \"6\": {\n",
      "      \"document_encoder\": false,\n",
      "      \"sentence_encoder\": true\n",
      "    },\n",
      "    \"7\": {\n",
      "      \"document_encoder\": true,\n",
      "      \"sentence_encoder\": true\n",
      "    },\n",
      "    \"8\": {\n",
      "      \"document_encoder\": true,\n",
      "      \"sentence_encoder\": false\n",
      "    }\n",
      "  },\n",
      "  \"hidden_act\": \"gelu\",\n",
      "  \"hidden_dropout_prob\": 0.1,\n",
      "  \"hidden_size\": 256,\n",
      "  \"id2label\": {\n",
      "    \"0\": \"LABEL_0\",\n",
      "    \"1\": \"LABEL_1\",\n",
      "    \"2\": \"LABEL_2\",\n",
      "    \"3\": \"LABEL_3\",\n",
      "    \"4\": \"LABEL_4\"\n",
      "  },\n",
      "  \"initializer_range\": 0.02,\n",
      "  \"intermediate_size\": 1024,\n",
      "  \"label2id\": {\n",
      "    \"LABEL_0\": 0,\n",
      "    \"LABEL_1\": 1,\n",
      "    \"LABEL_2\": 2,\n",
      "    \"LABEL_3\": 3,\n",
      "    \"LABEL_4\": 4\n",
      "  },\n",
      "  \"layer_norm_eps\": 1e-12,\n",
      "  \"max_position_embeddings\": 128,\n",
      "  \"max_sentence_length\": 128,\n",
      "  \"max_sentence_size\": 128,\n",
      "  \"max_sentences\": 8,\n",
      "  \"model_max_length\": 1024,\n",
      "  \"model_type\": \"hierarchical-transformer\",\n",
      "  \"num_attention_heads\": 4,\n",
      "  \"num_hidden_layers\": 9,\n",
      "  \"output_past\": true,\n",
      "  \"pad_token_id\": 0,\n",
      "  \"parameters\": 136350720,\n",
      "  \"position_embedding_type\": \"absolute\",\n",
      "  \"problem_type\": \"single_label_classification\",\n",
      "  \"torch_dtype\": \"float32\",\n",
      "  \"transformers_version\": \"4.26.0\",\n",
      "  \"type_vocab_size\": 2,\n",
      "  \"use_cache\": true,\n",
      "  \"vocab_size\": 30522\n",
      "}\n",
      "\n",
      "Explicitly passing a `revision` is encouraged when loading a model with custom code to ensure no malicious code has been contributed in a newer revision.\n",
      "loading weights file /home/ubuntu/partisan_bias_detection/best_models/final_pipelines/final_mini_pipeline/pytorch_model.bin\n",
      "Some weights of the model checkpoint at /home/ubuntu/partisan_bias_detection/best_models/final_pipelines/final_mini_pipeline were not used when initializing HATForSequenceClassification: ['hi_transformer.embeddings.linear.weight', 'hi_transformer.embeddings.embeds.LayerNorm.weight', 'hi_transformer.embeddings.embeds.position_embeddings.weight', 'hi_transformer.embeddings.embeds.position_ids', 'hi_transformer.embeddings.embeds.word_embeddings.weight', 'hi_transformer.embeddings.embeds.token_type_embeddings.weight', 'hi_transformer.embeddings.linear.bias', 'hi_transformer.embeddings.embeds.LayerNorm.bias']\n",
      "- This IS expected if you are initializing HATForSequenceClassification from the checkpoint of a model trained on another task or with another architecture (e.g. initializing a BertForSequenceClassification model from a BertForPreTraining model).\n",
      "- This IS NOT expected if you are initializing HATForSequenceClassification from the checkpoint of a model that you expect to be exactly identical (initializing a BertForSequenceClassification model from a BertForSequenceClassification model).\n",
      "Some weights of HATForSequenceClassification were not initialized from the model checkpoint at /home/ubuntu/partisan_bias_detection/best_models/final_pipelines/final_mini_pipeline and are newly initialized: ['hi_transformer.embeddings.word_embeddings.weight', 'hi_transformer.embeddings.position_embeddings.weight', 'hi_transformer.embeddings.LayerNorm.bias', 'hi_transformer.embeddings.token_type_embeddings.weight', 'hi_transformer.embeddings.LayerNorm.weight']\n",
      "You should probably TRAIN this model on a down-stream task to be able to use it for predictions and inference.\n",
      "PyTorch: setting up devices\n",
      "/home/ubuntu/.local/lib/python3.8/site-packages/transformers/optimization.py:306: FutureWarning: This implementation of AdamW is deprecated and will be removed in a future version. Use the PyTorch implementation torch.optim.AdamW instead, or set `no_deprecation_warning=True` to disable this warning\n",
      "  warnings.warn(\n",
      "***** Running training *****\n",
      "  Num examples = 400000\n",
      "  Num Epochs = 1\n",
      "  Instantaneous batch size per device = 16\n",
      "  Total train batch size (w. parallel, distributed & accumulation) = 64\n",
      "  Gradient Accumulation steps = 4\n",
      "  Total optimization steps = 6250\n",
      "  Number of trainable parameters = 9743365\n",
      "Automatic Weights & Biases logging enabled, to disable set os.environ[\"WANDB_DISABLED\"] = \"true\"\n",
      "/home/ubuntu/.local/lib/python3.8/site-packages/transformers/modeling_utils.py:810: FutureWarning: The `device` argument is deprecated and will be removed in v5 of Transformers.\n",
      "  warnings.warn(\n"
     ]
    },
    {
     "data": {
      "text/html": [
       "\n",
       "    <div>\n",
       "      \n",
       "      <progress value='6250' max='6250' style='width:300px; height:20px; vertical-align: middle;'></progress>\n",
       "      [6250/6250 27:23, Epoch 1/1]\n",
       "    </div>\n",
       "    <table border=\"1\" class=\"dataframe\">\n",
       "  <thead>\n",
       " <tr style=\"text-align: left;\">\n",
       "      <th>Step</th>\n",
       "      <th>Training Loss</th>\n",
       "      <th>Validation Loss</th>\n",
       "      <th>Accuracy</th>\n",
       "      <th>Precision</th>\n",
       "      <th>Recall</th>\n",
       "      <th>F1</th>\n",
       "    </tr>\n",
       "  </thead>\n",
       "  <tbody>\n",
       "    <tr>\n",
       "      <td>1050</td>\n",
       "      <td>0.139900</td>\n",
       "      <td>0.160149</td>\n",
       "      <td>0.947700</td>\n",
       "      <td>0.937332</td>\n",
       "      <td>0.935159</td>\n",
       "      <td>0.936230</td>\n",
       "    </tr>\n",
       "    <tr>\n",
       "      <td>2100</td>\n",
       "      <td>0.137000</td>\n",
       "      <td>0.160058</td>\n",
       "      <td>0.947700</td>\n",
       "      <td>0.937397</td>\n",
       "      <td>0.934943</td>\n",
       "      <td>0.936152</td>\n",
       "    </tr>\n",
       "    <tr>\n",
       "      <td>3150</td>\n",
       "      <td>0.134300</td>\n",
       "      <td>0.160097</td>\n",
       "      <td>0.947700</td>\n",
       "      <td>0.937397</td>\n",
       "      <td>0.934943</td>\n",
       "      <td>0.936152</td>\n",
       "    </tr>\n",
       "    <tr>\n",
       "      <td>4200</td>\n",
       "      <td>0.132100</td>\n",
       "      <td>0.160104</td>\n",
       "      <td>0.947600</td>\n",
       "      <td>0.937140</td>\n",
       "      <td>0.934735</td>\n",
       "      <td>0.935922</td>\n",
       "    </tr>\n",
       "    <tr>\n",
       "      <td>5250</td>\n",
       "      <td>0.134200</td>\n",
       "      <td>0.160101</td>\n",
       "      <td>0.947600</td>\n",
       "      <td>0.937140</td>\n",
       "      <td>0.934735</td>\n",
       "      <td>0.935922</td>\n",
       "    </tr>\n",
       "  </tbody>\n",
       "</table><p>"
      ],
      "text/plain": [
       "<IPython.core.display.HTML object>"
      ]
     },
     "metadata": {},
     "output_type": "display_data"
    },
    {
     "name": "stderr",
     "output_type": "stream",
     "text": [
      "***** Running Evaluation *****\n",
      "  Num examples = 10000\n",
      "  Batch size = 256\n",
      "/home/ubuntu/.local/lib/python3.8/site-packages/transformers/modeling_utils.py:810: FutureWarning: The `device` argument is deprecated and will be removed in v5 of Transformers.\n",
      "  warnings.warn(\n",
      "***** Running Evaluation *****\n",
      "  Num examples = 10000\n",
      "  Batch size = 256\n",
      "/home/ubuntu/.local/lib/python3.8/site-packages/transformers/modeling_utils.py:810: FutureWarning: The `device` argument is deprecated and will be removed in v5 of Transformers.\n",
      "  warnings.warn(\n",
      "***** Running Evaluation *****\n",
      "  Num examples = 10000\n",
      "  Batch size = 256\n",
      "/home/ubuntu/.local/lib/python3.8/site-packages/transformers/modeling_utils.py:810: FutureWarning: The `device` argument is deprecated and will be removed in v5 of Transformers.\n",
      "  warnings.warn(\n",
      "***** Running Evaluation *****\n",
      "  Num examples = 10000\n",
      "  Batch size = 256\n",
      "/home/ubuntu/.local/lib/python3.8/site-packages/transformers/modeling_utils.py:810: FutureWarning: The `device` argument is deprecated and will be removed in v5 of Transformers.\n",
      "  warnings.warn(\n",
      "***** Running Evaluation *****\n",
      "  Num examples = 10000\n",
      "  Batch size = 256\n",
      "Saving model checkpoint to models/continue_train_mini_pipeline/continue_final_mini_pipeline/checkpoint-5250\n",
      "Configuration saved in models/continue_train_mini_pipeline/continue_final_mini_pipeline/checkpoint-5250/config.json\n",
      "Model weights saved in models/continue_train_mini_pipeline/continue_final_mini_pipeline/checkpoint-5250/pytorch_model.bin\n",
      "/home/ubuntu/.local/lib/python3.8/site-packages/transformers/modeling_utils.py:810: FutureWarning: The `device` argument is deprecated and will be removed in v5 of Transformers.\n",
      "  warnings.warn(\n",
      "\n",
      "\n",
      "Training completed. Do not forget to share your model on huggingface.co/models =)\n",
      "\n",
      "\n",
      "Loading best model from models/continue_train_mini_pipeline/continue_final_mini_pipeline/checkpoint-5250 (score: 0.16010068356990814).\n",
      "Saving model checkpoint to /tmp/tmpsb2w4v75\n",
      "Configuration saved in /tmp/tmpsb2w4v75/config.json\n",
      "Model weights saved in /tmp/tmpsb2w4v75/pytorch_model.bin\n",
      "Logging model artifacts. ...\n",
      "Saving model checkpoint to best_models/continue_train_mini_pipeline/continue_final_mini_pipeline\n",
      "Configuration saved in best_models/continue_train_mini_pipeline/continue_final_mini_pipeline/config.json\n",
      "Model weights saved in best_models/continue_train_mini_pipeline/continue_final_mini_pipeline/pytorch_model.bin\n"
     ]
    }
   ],
   "source": [
    "wandb.init()\n",
    "    \n",
    "# initialize model\n",
    "model = pipeline_init(path_to_pipeline)\n",
    "save_path = os.path.join(WANDB_PROJECT, WANDB_NAME)\n",
    "run_name = WANDB_NAME\n",
    "        \n",
    "# set hyperparams\n",
    "lr = 1e-7\n",
    "num_train_epochs = 1\n",
    "\n",
    "args = TrainingArguments(\n",
    "        learning_rate=lr,\n",
    "        per_device_train_batch_size=16,\n",
    "        per_device_eval_batch_size=256,\n",
    "        num_train_epochs=num_train_epochs, \n",
    "        gradient_accumulation_steps= 4,\n",
    "        adam_beta1=0.9,\n",
    "        adam_beta2=0.999,\n",
    "        adam_epsilon=1e-08,\n",
    "        lr_scheduler_type='linear',\n",
    "        logging_strategy='steps',\n",
    "        logging_steps=logging_steps,\n",
    "        evaluation_strategy = 'steps',\n",
    "        eval_steps=eval_steps, \n",
    "        save_strategy='steps',\n",
    "        save_steps=eval_steps*5,\n",
    "        load_best_model_at_end=True,\n",
    "        report_to='wandb',\n",
    "        logging_dir=os.path.join('logs', save_path),\n",
    "        output_dir=os.path.join('models', save_path),\n",
    "        save_total_limit=3, \n",
    "        run_name=run_name\n",
    "    )\n",
    "    \n",
    "# freeze bert embeds\n",
    "for param in model.hi_transformer.embeddings.embeds.parameters():\n",
    "    param.requires_grad = False\n",
    "    \n",
    "trainer = Trainer(\n",
    "    model=model,\n",
    "    args=args,\n",
    "    train_dataset=dataset['train'].select(range(400000)),\n",
    "    eval_dataset=dataset['test'].select(range(10000)),\n",
    "    compute_metrics=compute_metrics,\n",
    ")\n",
    "    \n",
    "trainer.add_callback(EarlyStoppingCallback(early_stopping_patience=3, early_stopping_threshold=0.0))\n",
    "trainer.train()\n",
    "    \n",
    "# save best model\n",
    "trainer.save_model(os.path.join('best_models', save_path))\n",
    "trainer.save_state()"
   ]
  },
  {
   "cell_type": "code",
   "execution_count": 22,
   "metadata": {},
   "outputs": [
    {
     "name": "stdout",
     "output_type": "stream",
     "text": [
      "saved to best_models/continue_train_mini_pipeline/continue_final_mini_pipeline\n"
     ]
    },
    {
     "data": {
      "text/html": [
       "Waiting for W&B process to finish... <strong style=\"color:green\">(success).</strong>"
      ],
      "text/plain": [
       "<IPython.core.display.HTML object>"
      ]
     },
     "metadata": {},
     "output_type": "display_data"
    },
    {
     "data": {
      "text/html": [
       "<style>\n",
       "    table.wandb td:nth-child(1) { padding: 0 10px; text-align: left ; width: auto;} td:nth-child(2) {text-align: left ; width: 100%}\n",
       "    .wandb-row { display: flex; flex-direction: row; flex-wrap: wrap; justify-content: flex-start; width: 100% }\n",
       "    .wandb-col { display: flex; flex-direction: column; flex-basis: 100%; flex: 1; padding: 10px; }\n",
       "    </style>\n",
       "<div class=\"wandb-row\"><div class=\"wandb-col\"><h3>Run history:</h3><br/><table class=\"wandb\"><tr><td>eval/accuracy</td><td>███▁▁</td></tr><tr><td>eval/f1</td><td>█▆▆▁▁</td></tr><tr><td>eval/loss</td><td>█▁▄▅▄</td></tr><tr><td>eval/precision</td><td>▆██▁▁</td></tr><tr><td>eval/recall</td><td>█▄▄▁▁</td></tr><tr><td>eval/runtime</td><td>█▁▁▁▁</td></tr><tr><td>eval/samples_per_second</td><td>▁████</td></tr><tr><td>eval/steps_per_second</td><td>▁████</td></tr><tr><td>train/epoch</td><td>▁▂▂▂▃▃▄▄▄▅▅▅▆▇▇▇█</td></tr><tr><td>train/global_step</td><td>▁▂▂▂▃▃▄▄▄▅▅▅▆▇▇▇█</td></tr><tr><td>train/learning_rate</td><td>█▇▇▆▅▅▄▃▂▂▁</td></tr><tr><td>train/loss</td><td>█▇▆▅▂▃▃▁▅▃▂</td></tr><tr><td>train/total_flos</td><td>▁</td></tr><tr><td>train/train_loss</td><td>▁</td></tr><tr><td>train/train_runtime</td><td>▁</td></tr><tr><td>train/train_samples_per_second</td><td>▁</td></tr><tr><td>train/train_steps_per_second</td><td>▁</td></tr></table><br/></div><div class=\"wandb-col\"><h3>Run summary:</h3><br/><table class=\"wandb\"><tr><td>eval/accuracy</td><td>0.9476</td></tr><tr><td>eval/f1</td><td>0.93592</td></tr><tr><td>eval/loss</td><td>0.1601</td></tr><tr><td>eval/precision</td><td>0.93714</td></tr><tr><td>eval/recall</td><td>0.93473</td></tr><tr><td>eval/runtime</td><td>11.0342</td></tr><tr><td>eval/samples_per_second</td><td>906.27</td></tr><tr><td>eval/steps_per_second</td><td>3.625</td></tr><tr><td>train/epoch</td><td>1.0</td></tr><tr><td>train/global_step</td><td>6250</td></tr><tr><td>train/learning_rate</td><td>0.0</td></tr><tr><td>train/loss</td><td>0.1336</td></tr><tr><td>train/total_flos</td><td>1.19717031936e+16</td></tr><tr><td>train/train_loss</td><td>0.13595</td></tr><tr><td>train/train_runtime</td><td>1642.3456</td></tr><tr><td>train/train_samples_per_second</td><td>243.554</td></tr><tr><td>train/train_steps_per_second</td><td>3.806</td></tr></table><br/></div></div>"
      ],
      "text/plain": [
       "<IPython.core.display.HTML object>"
      ]
     },
     "metadata": {},
     "output_type": "display_data"
    },
    {
     "data": {
      "text/html": [
       " View run <strong style=\"color:#cdcd00\">revived-eon-4</strong> at: <a href='https://wandb.ai/partisan-bias-classification/continue_train_mini_pipeline/runs/3vwbk8mj' target=\"_blank\">https://wandb.ai/partisan-bias-classification/continue_train_mini_pipeline/runs/3vwbk8mj</a><br/>Synced 5 W&B file(s), 0 media file(s), 5 artifact file(s) and 0 other file(s)"
      ],
      "text/plain": [
       "<IPython.core.display.HTML object>"
      ]
     },
     "metadata": {},
     "output_type": "display_data"
    },
    {
     "data": {
      "text/html": [
       "Find logs at: <code>./wandb/run-20230317_172913-3vwbk8mj/logs</code>"
      ],
      "text/plain": [
       "<IPython.core.display.HTML object>"
      ]
     },
     "metadata": {},
     "output_type": "display_data"
    }
   ],
   "source": [
    "with open(os.path.join('best_models', save_path, 'embeds'), 'wb') as f:\n",
    "    torch.save(model.hi_transformer.embeddings, f)\n",
    "\n",
    "print(f'saved to best_models/{save_path}')\n",
    "\n",
    "wandb.finish()"
   ]
  },
  {
   "cell_type": "code",
   "execution_count": null,
   "metadata": {},
   "outputs": [],
   "source": []
  },
  {
   "cell_type": "code",
   "execution_count": null,
   "metadata": {},
   "outputs": [],
   "source": []
  },
  {
   "cell_type": "code",
   "execution_count": null,
   "metadata": {},
   "outputs": [],
   "source": []
  },
  {
   "cell_type": "code",
   "execution_count": null,
   "metadata": {},
   "outputs": [],
   "source": []
  }
 ],
 "metadata": {
  "colab": {
   "authorship_tag": "ABX9TyNewzXsyerCTA8lPd3RxGnN",
   "provenance": []
  },
  "gpuClass": "standard",
  "kernelspec": {
   "display_name": "Python 3 (ipykernel)",
   "language": "python",
   "name": "python3"
  },
  "language_info": {
   "codemirror_mode": {
    "name": "ipython",
    "version": 3
   },
   "file_extension": ".py",
   "mimetype": "text/x-python",
   "name": "python",
   "nbconvert_exporter": "python",
   "pygments_lexer": "ipython3",
   "version": "3.8.10"
  },
  "widgets": {
   "application/vnd.jupyter.widget-state+json": {
    "05082c1cd3944d6db7b063df59c4e960": {
     "model_module": "@jupyter-widgets/controls",
     "model_module_version": "1.5.0",
     "model_name": "FloatProgressModel",
     "state": {
      "_dom_classes": [],
      "_model_module": "@jupyter-widgets/controls",
      "_model_module_version": "1.5.0",
      "_model_name": "FloatProgressModel",
      "_view_count": null,
      "_view_module": "@jupyter-widgets/controls",
      "_view_module_version": "1.5.0",
      "_view_name": "ProgressView",
      "bar_style": "success",
      "description": "",
      "description_tooltip": null,
      "layout": "IPY_MODEL_5680569f87ec43e98bab97061822c0aa",
      "max": 440473133,
      "min": 0,
      "orientation": "horizontal",
      "style": "IPY_MODEL_c960053c406a446d93722d395f288f4d",
      "value": 440473133
     }
    },
    "056655cfacd346e68932003dc676cab9": {
     "model_module": "@jupyter-widgets/controls",
     "model_module_version": "1.5.0",
     "model_name": "HTMLModel",
     "state": {
      "_dom_classes": [],
      "_model_module": "@jupyter-widgets/controls",
      "_model_module_version": "1.5.0",
      "_model_name": "HTMLModel",
      "_view_count": null,
      "_view_module": "@jupyter-widgets/controls",
      "_view_module_version": "1.5.0",
      "_view_name": "HTMLView",
      "description": "",
      "description_tooltip": null,
      "layout": "IPY_MODEL_a1ba598ed9b94e2c9547e397842d5656",
      "placeholder": "​",
      "style": "IPY_MODEL_b875b7ee729846db921f20eb8d85f352",
      "value": "Downloading (…)lve/main/config.json: 100%"
     }
    },
    "0ee0c6dd67514edeb629556b30eb5e8f": {
     "model_module": "@jupyter-widgets/controls",
     "model_module_version": "1.5.0",
     "model_name": "HBoxModel",
     "state": {
      "_dom_classes": [],
      "_model_module": "@jupyter-widgets/controls",
      "_model_module_version": "1.5.0",
      "_model_name": "HBoxModel",
      "_view_count": null,
      "_view_module": "@jupyter-widgets/controls",
      "_view_module_version": "1.5.0",
      "_view_name": "HBoxView",
      "box_style": "",
      "children": [
       "IPY_MODEL_cc3bac82ab254a05b134bea7b1c9fb8f",
       "IPY_MODEL_05082c1cd3944d6db7b063df59c4e960",
       "IPY_MODEL_91723044484441ab881f3fa94f721ab7"
      ],
      "layout": "IPY_MODEL_9e8b4c9f93d142e19f17aded9256398e"
     }
    },
    "17205d2de47542c8a39f5584fcd26160": {
     "model_module": "@jupyter-widgets/base",
     "model_module_version": "1.2.0",
     "model_name": "LayoutModel",
     "state": {
      "_model_module": "@jupyter-widgets/base",
      "_model_module_version": "1.2.0",
      "_model_name": "LayoutModel",
      "_view_count": null,
      "_view_module": "@jupyter-widgets/base",
      "_view_module_version": "1.2.0",
      "_view_name": "LayoutView",
      "align_content": null,
      "align_items": null,
      "align_self": null,
      "border": null,
      "bottom": null,
      "display": null,
      "flex": null,
      "flex_flow": null,
      "grid_area": null,
      "grid_auto_columns": null,
      "grid_auto_flow": null,
      "grid_auto_rows": null,
      "grid_column": null,
      "grid_gap": null,
      "grid_row": null,
      "grid_template_areas": null,
      "grid_template_columns": null,
      "grid_template_rows": null,
      "height": null,
      "justify_content": null,
      "justify_items": null,
      "left": null,
      "margin": null,
      "max_height": null,
      "max_width": null,
      "min_height": null,
      "min_width": null,
      "object_fit": null,
      "object_position": null,
      "order": null,
      "overflow": null,
      "overflow_x": null,
      "overflow_y": null,
      "padding": null,
      "right": null,
      "top": null,
      "visibility": null,
      "width": null
     }
    },
    "254d61e8d43b40bcbeba0fb0e4ac93b7": {
     "model_module": "@jupyter-widgets/base",
     "model_module_version": "1.2.0",
     "model_name": "LayoutModel",
     "state": {
      "_model_module": "@jupyter-widgets/base",
      "_model_module_version": "1.2.0",
      "_model_name": "LayoutModel",
      "_view_count": null,
      "_view_module": "@jupyter-widgets/base",
      "_view_module_version": "1.2.0",
      "_view_name": "LayoutView",
      "align_content": null,
      "align_items": null,
      "align_self": null,
      "border": null,
      "bottom": null,
      "display": null,
      "flex": null,
      "flex_flow": null,
      "grid_area": null,
      "grid_auto_columns": null,
      "grid_auto_flow": null,
      "grid_auto_rows": null,
      "grid_column": null,
      "grid_gap": null,
      "grid_row": null,
      "grid_template_areas": null,
      "grid_template_columns": null,
      "grid_template_rows": null,
      "height": null,
      "justify_content": null,
      "justify_items": null,
      "left": null,
      "margin": null,
      "max_height": null,
      "max_width": null,
      "min_height": null,
      "min_width": null,
      "object_fit": null,
      "object_position": null,
      "order": null,
      "overflow": null,
      "overflow_x": null,
      "overflow_y": null,
      "padding": null,
      "right": null,
      "top": null,
      "visibility": null,
      "width": null
     }
    },
    "5680569f87ec43e98bab97061822c0aa": {
     "model_module": "@jupyter-widgets/base",
     "model_module_version": "1.2.0",
     "model_name": "LayoutModel",
     "state": {
      "_model_module": "@jupyter-widgets/base",
      "_model_module_version": "1.2.0",
      "_model_name": "LayoutModel",
      "_view_count": null,
      "_view_module": "@jupyter-widgets/base",
      "_view_module_version": "1.2.0",
      "_view_name": "LayoutView",
      "align_content": null,
      "align_items": null,
      "align_self": null,
      "border": null,
      "bottom": null,
      "display": null,
      "flex": null,
      "flex_flow": null,
      "grid_area": null,
      "grid_auto_columns": null,
      "grid_auto_flow": null,
      "grid_auto_rows": null,
      "grid_column": null,
      "grid_gap": null,
      "grid_row": null,
      "grid_template_areas": null,
      "grid_template_columns": null,
      "grid_template_rows": null,
      "height": null,
      "justify_content": null,
      "justify_items": null,
      "left": null,
      "margin": null,
      "max_height": null,
      "max_width": null,
      "min_height": null,
      "min_width": null,
      "object_fit": null,
      "object_position": null,
      "order": null,
      "overflow": null,
      "overflow_x": null,
      "overflow_y": null,
      "padding": null,
      "right": null,
      "top": null,
      "visibility": null,
      "width": null
     }
    },
    "65a3375e27ac4a62ba9597c9264443f5": {
     "model_module": "@jupyter-widgets/controls",
     "model_module_version": "1.5.0",
     "model_name": "FloatProgressModel",
     "state": {
      "_dom_classes": [],
      "_model_module": "@jupyter-widgets/controls",
      "_model_module_version": "1.5.0",
      "_model_name": "FloatProgressModel",
      "_view_count": null,
      "_view_module": "@jupyter-widgets/controls",
      "_view_module_version": "1.5.0",
      "_view_name": "ProgressView",
      "bar_style": "success",
      "description": "",
      "description_tooltip": null,
      "layout": "IPY_MODEL_6d6919455b8545e2b38fc35d238099cc",
      "max": 570,
      "min": 0,
      "orientation": "horizontal",
      "style": "IPY_MODEL_f6e932af7105411e834aa3f6980ad488",
      "value": 570
     }
    },
    "6d6919455b8545e2b38fc35d238099cc": {
     "model_module": "@jupyter-widgets/base",
     "model_module_version": "1.2.0",
     "model_name": "LayoutModel",
     "state": {
      "_model_module": "@jupyter-widgets/base",
      "_model_module_version": "1.2.0",
      "_model_name": "LayoutModel",
      "_view_count": null,
      "_view_module": "@jupyter-widgets/base",
      "_view_module_version": "1.2.0",
      "_view_name": "LayoutView",
      "align_content": null,
      "align_items": null,
      "align_self": null,
      "border": null,
      "bottom": null,
      "display": null,
      "flex": null,
      "flex_flow": null,
      "grid_area": null,
      "grid_auto_columns": null,
      "grid_auto_flow": null,
      "grid_auto_rows": null,
      "grid_column": null,
      "grid_gap": null,
      "grid_row": null,
      "grid_template_areas": null,
      "grid_template_columns": null,
      "grid_template_rows": null,
      "height": null,
      "justify_content": null,
      "justify_items": null,
      "left": null,
      "margin": null,
      "max_height": null,
      "max_width": null,
      "min_height": null,
      "min_width": null,
      "object_fit": null,
      "object_position": null,
      "order": null,
      "overflow": null,
      "overflow_x": null,
      "overflow_y": null,
      "padding": null,
      "right": null,
      "top": null,
      "visibility": null,
      "width": null
     }
    },
    "8374b521f41b4314856becbd98cec2f6": {
     "model_module": "@jupyter-widgets/controls",
     "model_module_version": "1.5.0",
     "model_name": "DescriptionStyleModel",
     "state": {
      "_model_module": "@jupyter-widgets/controls",
      "_model_module_version": "1.5.0",
      "_model_name": "DescriptionStyleModel",
      "_view_count": null,
      "_view_module": "@jupyter-widgets/base",
      "_view_module_version": "1.2.0",
      "_view_name": "StyleView",
      "description_width": ""
     }
    },
    "91723044484441ab881f3fa94f721ab7": {
     "model_module": "@jupyter-widgets/controls",
     "model_module_version": "1.5.0",
     "model_name": "HTMLModel",
     "state": {
      "_dom_classes": [],
      "_model_module": "@jupyter-widgets/controls",
      "_model_module_version": "1.5.0",
      "_model_name": "HTMLModel",
      "_view_count": null,
      "_view_module": "@jupyter-widgets/controls",
      "_view_module_version": "1.5.0",
      "_view_name": "HTMLView",
      "description": "",
      "description_tooltip": null,
      "layout": "IPY_MODEL_d63741c24ba9494e8314794e2cbac7c9",
      "placeholder": "​",
      "style": "IPY_MODEL_dade08ea3c4e4010a7e8a038845011f7",
      "value": " 440M/440M [00:03&lt;00:00, 138MB/s]"
     }
    },
    "9e8b4c9f93d142e19f17aded9256398e": {
     "model_module": "@jupyter-widgets/base",
     "model_module_version": "1.2.0",
     "model_name": "LayoutModel",
     "state": {
      "_model_module": "@jupyter-widgets/base",
      "_model_module_version": "1.2.0",
      "_model_name": "LayoutModel",
      "_view_count": null,
      "_view_module": "@jupyter-widgets/base",
      "_view_module_version": "1.2.0",
      "_view_name": "LayoutView",
      "align_content": null,
      "align_items": null,
      "align_self": null,
      "border": null,
      "bottom": null,
      "display": null,
      "flex": null,
      "flex_flow": null,
      "grid_area": null,
      "grid_auto_columns": null,
      "grid_auto_flow": null,
      "grid_auto_rows": null,
      "grid_column": null,
      "grid_gap": null,
      "grid_row": null,
      "grid_template_areas": null,
      "grid_template_columns": null,
      "grid_template_rows": null,
      "height": null,
      "justify_content": null,
      "justify_items": null,
      "left": null,
      "margin": null,
      "max_height": null,
      "max_width": null,
      "min_height": null,
      "min_width": null,
      "object_fit": null,
      "object_position": null,
      "order": null,
      "overflow": null,
      "overflow_x": null,
      "overflow_y": null,
      "padding": null,
      "right": null,
      "top": null,
      "visibility": null,
      "width": null
     }
    },
    "a1ba598ed9b94e2c9547e397842d5656": {
     "model_module": "@jupyter-widgets/base",
     "model_module_version": "1.2.0",
     "model_name": "LayoutModel",
     "state": {
      "_model_module": "@jupyter-widgets/base",
      "_model_module_version": "1.2.0",
      "_model_name": "LayoutModel",
      "_view_count": null,
      "_view_module": "@jupyter-widgets/base",
      "_view_module_version": "1.2.0",
      "_view_name": "LayoutView",
      "align_content": null,
      "align_items": null,
      "align_self": null,
      "border": null,
      "bottom": null,
      "display": null,
      "flex": null,
      "flex_flow": null,
      "grid_area": null,
      "grid_auto_columns": null,
      "grid_auto_flow": null,
      "grid_auto_rows": null,
      "grid_column": null,
      "grid_gap": null,
      "grid_row": null,
      "grid_template_areas": null,
      "grid_template_columns": null,
      "grid_template_rows": null,
      "height": null,
      "justify_content": null,
      "justify_items": null,
      "left": null,
      "margin": null,
      "max_height": null,
      "max_width": null,
      "min_height": null,
      "min_width": null,
      "object_fit": null,
      "object_position": null,
      "order": null,
      "overflow": null,
      "overflow_x": null,
      "overflow_y": null,
      "padding": null,
      "right": null,
      "top": null,
      "visibility": null,
      "width": null
     }
    },
    "b875b7ee729846db921f20eb8d85f352": {
     "model_module": "@jupyter-widgets/controls",
     "model_module_version": "1.5.0",
     "model_name": "DescriptionStyleModel",
     "state": {
      "_model_module": "@jupyter-widgets/controls",
      "_model_module_version": "1.5.0",
      "_model_name": "DescriptionStyleModel",
      "_view_count": null,
      "_view_module": "@jupyter-widgets/base",
      "_view_module_version": "1.2.0",
      "_view_name": "StyleView",
      "description_width": ""
     }
    },
    "bfb640f41e73495f8cb80d6d6944a120": {
     "model_module": "@jupyter-widgets/base",
     "model_module_version": "1.2.0",
     "model_name": "LayoutModel",
     "state": {
      "_model_module": "@jupyter-widgets/base",
      "_model_module_version": "1.2.0",
      "_model_name": "LayoutModel",
      "_view_count": null,
      "_view_module": "@jupyter-widgets/base",
      "_view_module_version": "1.2.0",
      "_view_name": "LayoutView",
      "align_content": null,
      "align_items": null,
      "align_self": null,
      "border": null,
      "bottom": null,
      "display": null,
      "flex": null,
      "flex_flow": null,
      "grid_area": null,
      "grid_auto_columns": null,
      "grid_auto_flow": null,
      "grid_auto_rows": null,
      "grid_column": null,
      "grid_gap": null,
      "grid_row": null,
      "grid_template_areas": null,
      "grid_template_columns": null,
      "grid_template_rows": null,
      "height": null,
      "justify_content": null,
      "justify_items": null,
      "left": null,
      "margin": null,
      "max_height": null,
      "max_width": null,
      "min_height": null,
      "min_width": null,
      "object_fit": null,
      "object_position": null,
      "order": null,
      "overflow": null,
      "overflow_x": null,
      "overflow_y": null,
      "padding": null,
      "right": null,
      "top": null,
      "visibility": null,
      "width": null
     }
    },
    "c960053c406a446d93722d395f288f4d": {
     "model_module": "@jupyter-widgets/controls",
     "model_module_version": "1.5.0",
     "model_name": "ProgressStyleModel",
     "state": {
      "_model_module": "@jupyter-widgets/controls",
      "_model_module_version": "1.5.0",
      "_model_name": "ProgressStyleModel",
      "_view_count": null,
      "_view_module": "@jupyter-widgets/base",
      "_view_module_version": "1.2.0",
      "_view_name": "StyleView",
      "bar_color": null,
      "description_width": ""
     }
    },
    "cc3bac82ab254a05b134bea7b1c9fb8f": {
     "model_module": "@jupyter-widgets/controls",
     "model_module_version": "1.5.0",
     "model_name": "HTMLModel",
     "state": {
      "_dom_classes": [],
      "_model_module": "@jupyter-widgets/controls",
      "_model_module_version": "1.5.0",
      "_model_name": "HTMLModel",
      "_view_count": null,
      "_view_module": "@jupyter-widgets/controls",
      "_view_module_version": "1.5.0",
      "_view_name": "HTMLView",
      "description": "",
      "description_tooltip": null,
      "layout": "IPY_MODEL_254d61e8d43b40bcbeba0fb0e4ac93b7",
      "placeholder": "​",
      "style": "IPY_MODEL_8374b521f41b4314856becbd98cec2f6",
      "value": "Downloading pytorch_model.bin: 100%"
     }
    },
    "cfaaccf0c69c4844942fcefd2ee52f43": {
     "model_module": "@jupyter-widgets/controls",
     "model_module_version": "1.5.0",
     "model_name": "DescriptionStyleModel",
     "state": {
      "_model_module": "@jupyter-widgets/controls",
      "_model_module_version": "1.5.0",
      "_model_name": "DescriptionStyleModel",
      "_view_count": null,
      "_view_module": "@jupyter-widgets/base",
      "_view_module_version": "1.2.0",
      "_view_name": "StyleView",
      "description_width": ""
     }
    },
    "d63741c24ba9494e8314794e2cbac7c9": {
     "model_module": "@jupyter-widgets/base",
     "model_module_version": "1.2.0",
     "model_name": "LayoutModel",
     "state": {
      "_model_module": "@jupyter-widgets/base",
      "_model_module_version": "1.2.0",
      "_model_name": "LayoutModel",
      "_view_count": null,
      "_view_module": "@jupyter-widgets/base",
      "_view_module_version": "1.2.0",
      "_view_name": "LayoutView",
      "align_content": null,
      "align_items": null,
      "align_self": null,
      "border": null,
      "bottom": null,
      "display": null,
      "flex": null,
      "flex_flow": null,
      "grid_area": null,
      "grid_auto_columns": null,
      "grid_auto_flow": null,
      "grid_auto_rows": null,
      "grid_column": null,
      "grid_gap": null,
      "grid_row": null,
      "grid_template_areas": null,
      "grid_template_columns": null,
      "grid_template_rows": null,
      "height": null,
      "justify_content": null,
      "justify_items": null,
      "left": null,
      "margin": null,
      "max_height": null,
      "max_width": null,
      "min_height": null,
      "min_width": null,
      "object_fit": null,
      "object_position": null,
      "order": null,
      "overflow": null,
      "overflow_x": null,
      "overflow_y": null,
      "padding": null,
      "right": null,
      "top": null,
      "visibility": null,
      "width": null
     }
    },
    "dade08ea3c4e4010a7e8a038845011f7": {
     "model_module": "@jupyter-widgets/controls",
     "model_module_version": "1.5.0",
     "model_name": "DescriptionStyleModel",
     "state": {
      "_model_module": "@jupyter-widgets/controls",
      "_model_module_version": "1.5.0",
      "_model_name": "DescriptionStyleModel",
      "_view_count": null,
      "_view_module": "@jupyter-widgets/base",
      "_view_module_version": "1.2.0",
      "_view_name": "StyleView",
      "description_width": ""
     }
    },
    "e23ca0b979e34d058f7ae6002677a62f": {
     "model_module": "@jupyter-widgets/controls",
     "model_module_version": "1.5.0",
     "model_name": "HBoxModel",
     "state": {
      "_dom_classes": [],
      "_model_module": "@jupyter-widgets/controls",
      "_model_module_version": "1.5.0",
      "_model_name": "HBoxModel",
      "_view_count": null,
      "_view_module": "@jupyter-widgets/controls",
      "_view_module_version": "1.5.0",
      "_view_name": "HBoxView",
      "box_style": "",
      "children": [
       "IPY_MODEL_056655cfacd346e68932003dc676cab9",
       "IPY_MODEL_65a3375e27ac4a62ba9597c9264443f5",
       "IPY_MODEL_fedbe7404cde4d5bad45ee3ba52cbc32"
      ],
      "layout": "IPY_MODEL_17205d2de47542c8a39f5584fcd26160"
     }
    },
    "f6e932af7105411e834aa3f6980ad488": {
     "model_module": "@jupyter-widgets/controls",
     "model_module_version": "1.5.0",
     "model_name": "ProgressStyleModel",
     "state": {
      "_model_module": "@jupyter-widgets/controls",
      "_model_module_version": "1.5.0",
      "_model_name": "ProgressStyleModel",
      "_view_count": null,
      "_view_module": "@jupyter-widgets/base",
      "_view_module_version": "1.2.0",
      "_view_name": "StyleView",
      "bar_color": null,
      "description_width": ""
     }
    },
    "fedbe7404cde4d5bad45ee3ba52cbc32": {
     "model_module": "@jupyter-widgets/controls",
     "model_module_version": "1.5.0",
     "model_name": "HTMLModel",
     "state": {
      "_dom_classes": [],
      "_model_module": "@jupyter-widgets/controls",
      "_model_module_version": "1.5.0",
      "_model_name": "HTMLModel",
      "_view_count": null,
      "_view_module": "@jupyter-widgets/controls",
      "_view_module_version": "1.5.0",
      "_view_name": "HTMLView",
      "description": "",
      "description_tooltip": null,
      "layout": "IPY_MODEL_bfb640f41e73495f8cb80d6d6944a120",
      "placeholder": "​",
      "style": "IPY_MODEL_cfaaccf0c69c4844942fcefd2ee52f43",
      "value": " 570/570 [00:00&lt;00:00, 7.38kB/s]"
     }
    }
   }
  }
 },
 "nbformat": 4,
 "nbformat_minor": 1
}
